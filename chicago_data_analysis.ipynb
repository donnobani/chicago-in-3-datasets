{
 "cells": [
  {
   "cell_type": "markdown",
   "id": "c3741d30-0d2b-4b0a-bba4-e8e33c3d0ca8",
   "metadata": {
    "tags": []
   },
   "source": [
    "# Exploring Data: The City of Chicago "
   ]
  },
  {
   "cell_type": "markdown",
   "id": "af1ee9e6-e4ea-4c3d-b4b5-c4f43a980778",
   "metadata": {},
   "source": [
    "In this Python notebook, we will explore 3 different datasets in order to develop a deeper understanding of the City of Chicago.</br></br>\n",
    "These include:\n",
    "- Socioeconomic Indicators in Chicago\n",
    "- Chicago Publis Schools\n",
    "- Chicago Crime Data\n"
   ]
  },
  {
   "cell_type": "markdown",
   "id": "4a53fa83-99c5-4beb-bb6f-1e1f57e06e97",
   "metadata": {},
   "source": [
    "#### Establishing our connection."
   ]
  },
  {
   "cell_type": "code",
   "execution_count": 1,
   "id": "d12de8c7-3ff5-4eb0-a297-d893e6a9ff66",
   "metadata": {
    "tags": []
   },
   "outputs": [],
   "source": [
    "import csv, sqlite3, pandas\n",
    "con = sqlite3.connect(\"FinalDB.db\")\n",
    "cur = con.cursor()"
   ]
  },
  {
   "cell_type": "code",
   "execution_count": 2,
   "id": "3fead668-df45-462e-adfe-242636290714",
   "metadata": {
    "tags": []
   },
   "outputs": [],
   "source": [
    "%load_ext sql\n",
    "%sql sqlite:///FinalDB.db"
   ]
  },
  {
   "cell_type": "markdown",
   "id": "c007cfec-de12-496f-9e91-3009919321d4",
   "metadata": {
    "tags": []
   },
   "source": [
    "#### Using Pandas to read our CSV file and push data set into database."
   ]
  },
  {
   "cell_type": "code",
   "execution_count": 3,
   "id": "b97bb558-e0f0-426f-8d7e-f58256eb976f",
   "metadata": {
    "tags": []
   },
   "outputs": [],
   "source": [
    "socioeconomic_df = pandas.read_csv(\"ChicagoCensusData.csv\")\n",
    "crime_df = pandas.read_csv(\"ChicagoCrimeData.csv\")\n",
    "schools_df = pandas.read_csv(\"ChicagoPublicSchools.csv\")"
   ]
  },
  {
   "cell_type": "code",
   "execution_count": 4,
   "id": "5df0c70c-86c5-4f3a-aab2-9ab0d2be8910",
   "metadata": {
    "tags": []
   },
   "outputs": [
    {
     "data": {
      "text/plain": [
       "78"
      ]
     },
     "execution_count": 4,
     "metadata": {},
     "output_type": "execute_result"
    }
   ],
   "source": [
    "socioeconomic_df.to_sql(\"CENSUS_DATA\",con, if_exists='replace', index=False, method=\"multi\")"
   ]
  },
  {
   "cell_type": "code",
   "execution_count": 5,
   "id": "bbf7fdec-ca87-44b5-baa5-37c466bcde34",
   "metadata": {
    "tags": []
   },
   "outputs": [
    {
     "data": {
      "text/plain": [
       "533"
      ]
     },
     "execution_count": 5,
     "metadata": {},
     "output_type": "execute_result"
    }
   ],
   "source": [
    "crime_df.to_sql(\"CHICAGO_CRIME_DATA\",con, if_exists='replace', index=False, method=\"multi\")"
   ]
  },
  {
   "cell_type": "code",
   "execution_count": 6,
   "id": "2a8fcfd2-c020-4d7c-9321-877207e73852",
   "metadata": {
    "tags": []
   },
   "outputs": [
    {
     "data": {
      "text/plain": [
       "566"
      ]
     },
     "execution_count": 6,
     "metadata": {},
     "output_type": "execute_result"
    }
   ],
   "source": [
    "schools_df.to_sql(\"CHICAGO_PUBLIC_SCHOOLS\",con, if_exists='replace', index=False, method=\"multi\")"
   ]
  },
  {
   "cell_type": "markdown",
   "id": "e059e170-410c-4e29-9a19-6273dd209bf4",
   "metadata": {},
   "source": [
    "#### Checking our metadata to confirm our tables have been created."
   ]
  },
  {
   "cell_type": "code",
   "execution_count": 7,
   "id": "d9aac62c-41cb-4ef6-8247-f010233bf806",
   "metadata": {
    "tags": []
   },
   "outputs": [
    {
     "name": "stdout",
     "output_type": "stream",
     "text": [
      " * sqlite:///FinalDB.db\n",
      "Done.\n"
     ]
    },
    {
     "data": {
      "text/html": [
       "<table>\n",
       "    <thead>\n",
       "        <tr>\n",
       "            <th>name</th>\n",
       "        </tr>\n",
       "    </thead>\n",
       "    <tbody>\n",
       "        <tr>\n",
       "            <td>CENSUS_DATA</td>\n",
       "        </tr>\n",
       "        <tr>\n",
       "            <td>CHICAGO_CRIME_DATA</td>\n",
       "        </tr>\n",
       "        <tr>\n",
       "            <td>CHICAGO_PUBLIC_SCHOOLS</td>\n",
       "        </tr>\n",
       "    </tbody>\n",
       "</table>"
      ],
      "text/plain": [
       "[('CENSUS_DATA',), ('CHICAGO_CRIME_DATA',), ('CHICAGO_PUBLIC_SCHOOLS',)]"
      ]
     },
     "execution_count": 7,
     "metadata": {},
     "output_type": "execute_result"
    }
   ],
   "source": [
    "%sql select name from sqlite_master where type='table'"
   ]
  },
  {
   "cell_type": "markdown",
   "id": "71e87ac6-2d3e-4f45-8885-52bbc4493463",
   "metadata": {},
   "source": [
    "### Now let's do some exploring!"
   ]
  },
  {
   "cell_type": "markdown",
   "id": "b51d59d4-a4fb-4bfd-a822-8186d08d393c",
   "metadata": {
    "tags": []
   },
   "source": [
    "#### 1. Let's find the total number of crimes recored in the CRIME table."
   ]
  },
  {
   "cell_type": "code",
   "execution_count": 12,
   "id": "9b42989f-120c-443e-8ee0-1306827e5352",
   "metadata": {
    "tags": []
   },
   "outputs": [
    {
     "name": "stdout",
     "output_type": "stream",
     "text": [
      " * sqlite:///FinalDB.db\n",
      "Done.\n"
     ]
    },
    {
     "data": {
      "text/html": [
       "<table>\n",
       "    <thead>\n",
       "        <tr>\n",
       "            <th>Total_Crimes</th>\n",
       "        </tr>\n",
       "    </thead>\n",
       "    <tbody>\n",
       "        <tr>\n",
       "            <td>533</td>\n",
       "        </tr>\n",
       "    </tbody>\n",
       "</table>"
      ],
      "text/plain": [
       "[(533,)]"
      ]
     },
     "execution_count": 12,
     "metadata": {},
     "output_type": "execute_result"
    }
   ],
   "source": [
    "%sql select count(*) as 'Total_Crimes'from CHICAGO_CRIME_DATA "
   ]
  },
  {
   "cell_type": "markdown",
   "id": "b406aeca-b989-4057-b0a6-b6bb5dc34c9e",
   "metadata": {},
   "source": [
    "#### 2. Let's get a list of all the community areas with per capita income less than 11000."
   ]
  },
  {
   "cell_type": "code",
   "execution_count": 14,
   "id": "30d6b220-4cfe-41a7-9890-b2061fcfd88b",
   "metadata": {
    "tags": []
   },
   "outputs": [
    {
     "name": "stdout",
     "output_type": "stream",
     "text": [
      " * sqlite:///FinalDB.db\n",
      "Done.\n"
     ]
    },
    {
     "data": {
      "text/html": [
       "<table>\n",
       "    <thead>\n",
       "        <tr>\n",
       "            <th>COMMUNITY_AREA_NAME</th>\n",
       "        </tr>\n",
       "    </thead>\n",
       "    <tbody>\n",
       "        <tr>\n",
       "            <td>West Garfield Park</td>\n",
       "        </tr>\n",
       "        <tr>\n",
       "            <td>South Lawndale</td>\n",
       "        </tr>\n",
       "        <tr>\n",
       "            <td>Fuller Park</td>\n",
       "        </tr>\n",
       "        <tr>\n",
       "            <td>Riverdale</td>\n",
       "        </tr>\n",
       "    </tbody>\n",
       "</table>"
      ],
      "text/plain": [
       "[('West Garfield Park',),\n",
       " ('South Lawndale',),\n",
       " ('Fuller Park',),\n",
       " ('Riverdale',)]"
      ]
     },
     "execution_count": 14,
     "metadata": {},
     "output_type": "execute_result"
    }
   ],
   "source": [
    "%sql select COMMUNITY_AREA_NAME from CENSUS_DATA where PER_CAPITA_INCOME<11000"
   ]
  },
  {
   "cell_type": "markdown",
   "id": "687ba204-a513-4bbc-9441-40356b343c0e",
   "metadata": {},
   "source": [
    "#### 3. Let's get a list of all the crimes involving minors. \n",
    "(Children are not considered minors for the purpose of crime analysis)"
   ]
  },
  {
   "cell_type": "code",
   "execution_count": 17,
   "id": "13fe2fc5-c915-4ed8-8ae4-9fae72fb8ca3",
   "metadata": {
    "tags": []
   },
   "outputs": [
    {
     "name": "stdout",
     "output_type": "stream",
     "text": [
      " * sqlite:///FinalDB.db\n",
      "Done.\n"
     ]
    },
    {
     "data": {
      "text/html": [
       "<table>\n",
       "    <thead>\n",
       "        <tr>\n",
       "            <th>CASE_NUMBER</th>\n",
       "        </tr>\n",
       "    </thead>\n",
       "    <tbody>\n",
       "        <tr>\n",
       "            <td>HL266884</td>\n",
       "        </tr>\n",
       "        <tr>\n",
       "            <td>HK238408</td>\n",
       "        </tr>\n",
       "    </tbody>\n",
       "</table>"
      ],
      "text/plain": [
       "[('HL266884',), ('HK238408',)]"
      ]
     },
     "execution_count": 17,
     "metadata": {},
     "output_type": "execute_result"
    }
   ],
   "source": [
    "%sql select distinct CASE_NUMBER from CHICAGO_CRIME_DATA where DESCRIPTION like '%MINOR%'"
   ]
  },
  {
   "cell_type": "markdown",
   "id": "6e565ef5-975f-4198-80f8-f5e523660142",
   "metadata": {
    "tags": []
   },
   "source": [
    "#### 4. Let's get a list of all kidnapping crimes involving a child."
   ]
  },
  {
   "cell_type": "code",
   "execution_count": 23,
   "id": "6cc8b0f9-05f0-4ce9-884e-226b4017ecc4",
   "metadata": {
    "tags": []
   },
   "outputs": [
    {
     "name": "stdout",
     "output_type": "stream",
     "text": [
      " * sqlite:///FinalDB.db\n",
      "Done.\n"
     ]
    },
    {
     "data": {
      "text/html": [
       "<table>\n",
       "    <thead>\n",
       "        <tr>\n",
       "            <th>ID</th>\n",
       "            <th>CASE_NUMBER</th>\n",
       "            <th>DATE</th>\n",
       "            <th>BLOCK</th>\n",
       "            <th>IUCR</th>\n",
       "            <th>PRIMARY_TYPE</th>\n",
       "            <th>DESCRIPTION</th>\n",
       "            <th>LOCATION_DESCRIPTION</th>\n",
       "            <th>ARREST</th>\n",
       "            <th>DOMESTIC</th>\n",
       "            <th>BEAT</th>\n",
       "            <th>DISTRICT</th>\n",
       "            <th>WARD</th>\n",
       "            <th>COMMUNITY_AREA_NUMBER</th>\n",
       "            <th>FBICODE</th>\n",
       "            <th>X_COORDINATE</th>\n",
       "            <th>Y_COORDINATE</th>\n",
       "            <th>YEAR</th>\n",
       "            <th>LATITUDE</th>\n",
       "            <th>LONGITUDE</th>\n",
       "            <th>LOCATION</th>\n",
       "        </tr>\n",
       "    </thead>\n",
       "    <tbody>\n",
       "        <tr>\n",
       "            <td>5276766</td>\n",
       "            <td>HN144152</td>\n",
       "            <td>2007-01-26</td>\n",
       "            <td>050XX W VAN BUREN ST</td>\n",
       "            <td>1792</td>\n",
       "            <td>KIDNAPPING</td>\n",
       "            <td>CHILD ABDUCTION/STRANGER</td>\n",
       "            <td>STREET</td>\n",
       "            <td>0</td>\n",
       "            <td>0</td>\n",
       "            <td>1533</td>\n",
       "            <td>15</td>\n",
       "            <td>29.0</td>\n",
       "            <td>25.0</td>\n",
       "            <td>20</td>\n",
       "            <td>1143050.0</td>\n",
       "            <td>1897546.0</td>\n",
       "            <td>2007</td>\n",
       "            <td>41.87490841</td>\n",
       "            <td>-87.75024931</td>\n",
       "            <td>(41.874908413, -87.750249307)</td>\n",
       "        </tr>\n",
       "    </tbody>\n",
       "</table>"
      ],
      "text/plain": [
       "[(5276766, 'HN144152', '2007-01-26', '050XX W VAN BUREN ST', '1792', 'KIDNAPPING', 'CHILD ABDUCTION/STRANGER', 'STREET', 0, 0, 1533, 15, 29.0, 25.0, '20', 1143050.0, 1897546.0, 2007, 41.87490841, -87.75024931, '(41.874908413, -87.750249307)')]"
      ]
     },
     "execution_count": 23,
     "metadata": {},
     "output_type": "execute_result"
    }
   ],
   "source": [
    "%sql select distinct * from CHICAGO_CRIME_DATA where PRIMARY_TYPE='KIDNAPPING' and DESCRIPTION like '%CHILD%'"
   ]
  },
  {
   "cell_type": "markdown",
   "id": "5da27270-796f-4cb7-9ca7-c23a80af1a54",
   "metadata": {},
   "source": [
    "#### 5. What kinds of crimes were conducted at schools?"
   ]
  },
  {
   "cell_type": "markdown",
   "id": "4ed41d03-aacc-4487-9092-7f0d50c6efe0",
   "metadata": {
    "tags": []
   },
   "source": [
    "##### %sql select distinct PRIMARY_TYPE from CHICAGO_CRIME_DATA where LOCATION_DESCRIPTION like '%SCHOOL%'"
   ]
  },
  {
   "cell_type": "markdown",
   "id": "69287f69-0699-428d-aee8-2873980a93ac",
   "metadata": {},
   "source": [
    "#### 6. Let's get a list of the average safety score for each type of school?"
   ]
  },
  {
   "cell_type": "code",
   "execution_count": 37,
   "id": "1eeb0a79-158b-4acd-8e3c-3b7a5e9fbf56",
   "metadata": {
    "tags": []
   },
   "outputs": [
    {
     "name": "stdout",
     "output_type": "stream",
     "text": [
      " * sqlite:///FinalDB.db\n",
      "Done.\n"
     ]
    },
    {
     "data": {
      "text/html": [
       "<table>\n",
       "    <thead>\n",
       "        <tr>\n",
       "            <th>Elementary, Middle, or High School</th>\n",
       "            <th>AVERAGE_SAFETY_SCORE</th>\n",
       "        </tr>\n",
       "    </thead>\n",
       "    <tbody>\n",
       "        <tr>\n",
       "            <td>ES</td>\n",
       "            <td>49.52038369304557</td>\n",
       "        </tr>\n",
       "        <tr>\n",
       "            <td>HS</td>\n",
       "            <td>49.62352941176471</td>\n",
       "        </tr>\n",
       "        <tr>\n",
       "            <td>MS</td>\n",
       "            <td>48.0</td>\n",
       "        </tr>\n",
       "    </tbody>\n",
       "</table>"
      ],
      "text/plain": [
       "[('ES', 49.52038369304557), ('HS', 49.62352941176471), ('MS', 48.0)]"
      ]
     },
     "execution_count": 37,
     "metadata": {},
     "output_type": "execute_result"
    }
   ],
   "source": [
    "%sql select \"Elementary, Middle, or High School\", AVG(SAFETY_SCORE) AVERAGE_SAFETY_SCORE \\\n",
    "from CHICAGO_PUBLIC_SCHOOLS group by \"Elementary, Middle, or High School\";"
   ]
  },
  {
   "cell_type": "markdown",
   "id": "032e1c0f-a86e-4c6f-8536-438247f092fb",
   "metadata": {
    "tags": []
   },
   "source": [
    "#### 7. List 5 community areas with the highest % of households below poverty line."
   ]
  },
  {
   "cell_type": "code",
   "execution_count": 57,
   "id": "8e8a211e-33c2-407c-ac80-0790c214c76e",
   "metadata": {
    "tags": []
   },
   "outputs": [
    {
     "name": "stdout",
     "output_type": "stream",
     "text": [
      " * sqlite:///FinalDB.db\n",
      "Done.\n"
     ]
    },
    {
     "data": {
      "text/html": [
       "<table>\n",
       "    <thead>\n",
       "        <tr>\n",
       "            <th>COMMUNITY_AREA_NUMBER</th>\n",
       "            <th>COMMUNITY_AREA_NAME</th>\n",
       "            <th>PERCENT_HOUSEHOLDS_BELOW_POVERTY</th>\n",
       "        </tr>\n",
       "    </thead>\n",
       "    <tbody>\n",
       "        <tr>\n",
       "            <td>54.0</td>\n",
       "            <td>Riverdale</td>\n",
       "            <td>56.5</td>\n",
       "        </tr>\n",
       "        <tr>\n",
       "            <td>37.0</td>\n",
       "            <td>Fuller Park</td>\n",
       "            <td>51.2</td>\n",
       "        </tr>\n",
       "        <tr>\n",
       "            <td>68.0</td>\n",
       "            <td>Englewood</td>\n",
       "            <td>46.6</td>\n",
       "        </tr>\n",
       "        <tr>\n",
       "            <td>29.0</td>\n",
       "            <td>North Lawndale</td>\n",
       "            <td>43.1</td>\n",
       "        </tr>\n",
       "        <tr>\n",
       "            <td>27.0</td>\n",
       "            <td>East Garfield Park</td>\n",
       "            <td>42.4</td>\n",
       "        </tr>\n",
       "    </tbody>\n",
       "</table>"
      ],
      "text/plain": [
       "[(54.0, 'Riverdale', 56.5),\n",
       " (37.0, 'Fuller Park', 51.2),\n",
       " (68.0, 'Englewood', 46.6),\n",
       " (29.0, 'North Lawndale', 43.1),\n",
       " (27.0, 'East Garfield Park', 42.4)]"
      ]
     },
     "execution_count": 57,
     "metadata": {},
     "output_type": "execute_result"
    }
   ],
   "source": [
    "%sql select COMMUNITY_AREA_NUMBER, COMMUNITY_AREA_NAME, PERCENT_HOUSEHOLDS_BELOW_POVERTY from CENSUS_DATA order by PERCENT_HOUSEHOLDS_BELOW_POVERTY desc limit 5"
   ]
  },
  {
   "cell_type": "markdown",
   "id": "f4cadc93-b41d-4353-9abe-4cf5fb531ab1",
   "metadata": {},
   "source": [
    "#### 8. Which community area is most crime prone?"
   ]
  },
  {
   "cell_type": "code",
   "execution_count": 65,
   "id": "bc739839-13e5-4085-b154-852201d2c22e",
   "metadata": {
    "tags": []
   },
   "outputs": [
    {
     "name": "stdout",
     "output_type": "stream",
     "text": [
      " * sqlite:///FinalDB.db\n",
      "Done.\n"
     ]
    },
    {
     "data": {
      "text/html": [
       "<table>\n",
       "    <thead>\n",
       "        <tr>\n",
       "            <th>COMMUNITY_AREA_NUMBER</th>\n",
       "            <th>Frequency</th>\n",
       "        </tr>\n",
       "    </thead>\n",
       "    <tbody>\n",
       "        <tr>\n",
       "            <td>25.0</td>\n",
       "            <td>43</td>\n",
       "        </tr>\n",
       "    </tbody>\n",
       "</table>"
      ],
      "text/plain": [
       "[(25.0, 43)]"
      ]
     },
     "execution_count": 65,
     "metadata": {},
     "output_type": "execute_result"
    }
   ],
   "source": [
    "%%sql\n",
    "select COMMUNITY_AREA_NUMBER, count(COMMUNITY_AREA_NUMBER) as Frequency \n",
    "from CHICAGO_CRIME_DATA \n",
    "group by COMMUNITY_AREA_NUMBER\n",
    "order by count(COMMUNITY_AREA_NUMBER) desc limit 1;"
   ]
  },
  {
   "cell_type": "markdown",
   "id": "7715a5c3-bc76-4b1b-ad23-ef970b88e2e1",
   "metadata": {
    "tags": []
   },
   "source": [
    "#### 9. Let's find the name of the community area with the highest hardship index using sub-queries."
   ]
  },
  {
   "cell_type": "code",
   "execution_count": 56,
   "id": "0830de2f-fa3c-40a5-bae0-217a42a8dc37",
   "metadata": {
    "tags": []
   },
   "outputs": [
    {
     "name": "stdout",
     "output_type": "stream",
     "text": [
      " * sqlite:///FinalDB.db\n",
      "Done.\n"
     ]
    },
    {
     "data": {
      "text/html": [
       "<table>\n",
       "    <thead>\n",
       "        <tr>\n",
       "            <th>COMMUNITY_AREA_NAME</th>\n",
       "        </tr>\n",
       "    </thead>\n",
       "    <tbody>\n",
       "        <tr>\n",
       "            <td>Riverdale</td>\n",
       "        </tr>\n",
       "    </tbody>\n",
       "</table>"
      ],
      "text/plain": [
       "[('Riverdale',)]"
      ]
     },
     "execution_count": 56,
     "metadata": {},
     "output_type": "execute_result"
    }
   ],
   "source": [
    "%%sql \n",
    "select COMMUNITY_AREA_NAME from CENSUS_DATA where HARDSHIP_INDEX=(select max(HARDSHIP_INDEX) from CENSUS_DATA)"
   ]
  },
  {
   "cell_type": "markdown",
   "id": "cb3b0f3c-2b79-4a90-8227-99c81febb929",
   "metadata": {},
   "source": [
    "#### 10. Lastly, let's find the name of the community area with the most number of crimes using sub-queries."
   ]
  },
  {
   "cell_type": "code",
   "execution_count": 67,
   "id": "21637260-c4e3-457c-abbb-311d12bf0dc2",
   "metadata": {
    "tags": []
   },
   "outputs": [
    {
     "name": "stdout",
     "output_type": "stream",
     "text": [
      " * sqlite:///FinalDB.db\n",
      "Done.\n"
     ]
    },
    {
     "data": {
      "text/html": [
       "<table>\n",
       "    <thead>\n",
       "        <tr>\n",
       "            <th>COMMUNITY_AREA_NAME</th>\n",
       "        </tr>\n",
       "    </thead>\n",
       "    <tbody>\n",
       "        <tr>\n",
       "            <td>Austin</td>\n",
       "        </tr>\n",
       "    </tbody>\n",
       "</table>"
      ],
      "text/plain": [
       "[('Austin',)]"
      ]
     },
     "execution_count": 67,
     "metadata": {},
     "output_type": "execute_result"
    }
   ],
   "source": [
    "%%sql\n",
    "select COMMUNITY_AREA_NAME from CENSUS_DATA \n",
    "where COMMUNITY_AREA_NUMBER=(select COMMUNITY_AREA_NUMBER\n",
    "    from CHICAGO_CRIME_DATA \n",
    "    group by COMMUNITY_AREA_NUMBER\n",
    "    order by count(COMMUNITY_AREA_NUMBER) desc limit 1);"
   ]
  },
  {
   "cell_type": "code",
   "execution_count": null,
   "id": "071f7f67-df3c-4bb8-8d4c-ec01e34b9aa2",
   "metadata": {},
   "outputs": [],
   "source": []
  }
 ],
 "metadata": {
  "kernelspec": {
   "display_name": "Python 3 (ipykernel)",
   "language": "python",
   "name": "python3"
  },
  "language_info": {
   "codemirror_mode": {
    "name": "ipython",
    "version": 3
   },
   "file_extension": ".py",
   "mimetype": "text/x-python",
   "name": "python",
   "nbconvert_exporter": "python",
   "pygments_lexer": "ipython3",
   "version": "3.11.3"
  }
 },
 "nbformat": 4,
 "nbformat_minor": 5
}
